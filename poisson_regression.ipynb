{
 "cells": [
  {
   "cell_type": "markdown",
   "metadata": {},
   "source": [
    "## Poisson regression model"
   ]
  },
  {
   "cell_type": "markdown",
   "metadata": {},
   "source": [
    "### Import Libraries"
   ]
  },
  {
   "cell_type": "code",
   "execution_count": 1,
   "metadata": {},
   "outputs": [],
   "source": [
    "import pandas as pd\n",
    "import numpy as np\n",
    "import statsmodels.api as sm\n",
    "from statsmodels.formula.api import glm, negativebinomial\n",
    "from statsmodels.stats.outliers_influence import variance_inflation_factor as vif\n",
    "from statsmodels.genmod.families import Poisson, NegativeBinomial\n",
    "from scipy.stats import chi2"
   ]
  },
  {
   "cell_type": "code",
   "execution_count": 2,
   "metadata": {},
   "outputs": [],
   "source": [
    "import warnings\n",
    "\n",
    "# Ignore all warnings\n",
    "warnings.filterwarnings(\"ignore\")"
   ]
  },
  {
   "cell_type": "markdown",
   "metadata": {},
   "source": [
    "## Reading of Data"
   ]
  },
  {
   "cell_type": "code",
   "execution_count": 3,
   "metadata": {},
   "outputs": [
    {
     "data": {
      "text/html": [
       "<div>\n",
       "<style scoped>\n",
       "    .dataframe tbody tr th:only-of-type {\n",
       "        vertical-align: middle;\n",
       "    }\n",
       "\n",
       "    .dataframe tbody tr th {\n",
       "        vertical-align: top;\n",
       "    }\n",
       "\n",
       "    .dataframe thead th {\n",
       "        text-align: right;\n",
       "    }\n",
       "</style>\n",
       "<table border=\"1\" class=\"dataframe\">\n",
       "  <thead>\n",
       "    <tr style=\"text-align: right;\">\n",
       "      <th></th>\n",
       "      <th>NONDOCCO</th>\n",
       "      <th>SEX</th>\n",
       "      <th>AGE</th>\n",
       "      <th>INCOME</th>\n",
       "      <th>LEVYPLUS</th>\n",
       "      <th>FREEPOOR</th>\n",
       "      <th>FREEREPA</th>\n",
       "      <th>ILLNESS</th>\n",
       "      <th>ACTDAYS</th>\n",
       "      <th>HSCORE</th>\n",
       "      <th>CHCOND1</th>\n",
       "      <th>CHCOND2</th>\n",
       "    </tr>\n",
       "  </thead>\n",
       "  <tbody>\n",
       "    <tr>\n",
       "      <th>0</th>\n",
       "      <td>0.0</td>\n",
       "      <td>1.0</td>\n",
       "      <td>0.19</td>\n",
       "      <td>0.55</td>\n",
       "      <td>1.0</td>\n",
       "      <td>0.0</td>\n",
       "      <td>0.0</td>\n",
       "      <td>1.0</td>\n",
       "      <td>4.0</td>\n",
       "      <td>1.0</td>\n",
       "      <td>0.0</td>\n",
       "      <td>0.0</td>\n",
       "    </tr>\n",
       "    <tr>\n",
       "      <th>1</th>\n",
       "      <td>0.0</td>\n",
       "      <td>1.0</td>\n",
       "      <td>0.19</td>\n",
       "      <td>0.45</td>\n",
       "      <td>1.0</td>\n",
       "      <td>0.0</td>\n",
       "      <td>0.0</td>\n",
       "      <td>1.0</td>\n",
       "      <td>2.0</td>\n",
       "      <td>1.0</td>\n",
       "      <td>0.0</td>\n",
       "      <td>0.0</td>\n",
       "    </tr>\n",
       "    <tr>\n",
       "      <th>2</th>\n",
       "      <td>0.0</td>\n",
       "      <td>0.0</td>\n",
       "      <td>0.19</td>\n",
       "      <td>0.90</td>\n",
       "      <td>0.0</td>\n",
       "      <td>0.0</td>\n",
       "      <td>0.0</td>\n",
       "      <td>3.0</td>\n",
       "      <td>0.0</td>\n",
       "      <td>0.0</td>\n",
       "      <td>0.0</td>\n",
       "      <td>0.0</td>\n",
       "    </tr>\n",
       "    <tr>\n",
       "      <th>3</th>\n",
       "      <td>0.0</td>\n",
       "      <td>0.0</td>\n",
       "      <td>0.19</td>\n",
       "      <td>0.15</td>\n",
       "      <td>0.0</td>\n",
       "      <td>0.0</td>\n",
       "      <td>0.0</td>\n",
       "      <td>1.0</td>\n",
       "      <td>0.0</td>\n",
       "      <td>0.0</td>\n",
       "      <td>0.0</td>\n",
       "      <td>0.0</td>\n",
       "    </tr>\n",
       "    <tr>\n",
       "      <th>4</th>\n",
       "      <td>0.0</td>\n",
       "      <td>0.0</td>\n",
       "      <td>0.19</td>\n",
       "      <td>0.45</td>\n",
       "      <td>0.0</td>\n",
       "      <td>0.0</td>\n",
       "      <td>0.0</td>\n",
       "      <td>2.0</td>\n",
       "      <td>5.0</td>\n",
       "      <td>1.0</td>\n",
       "      <td>1.0</td>\n",
       "      <td>0.0</td>\n",
       "    </tr>\n",
       "    <tr>\n",
       "      <th>...</th>\n",
       "      <td>...</td>\n",
       "      <td>...</td>\n",
       "      <td>...</td>\n",
       "      <td>...</td>\n",
       "      <td>...</td>\n",
       "      <td>...</td>\n",
       "      <td>...</td>\n",
       "      <td>...</td>\n",
       "      <td>...</td>\n",
       "      <td>...</td>\n",
       "      <td>...</td>\n",
       "      <td>...</td>\n",
       "    </tr>\n",
       "    <tr>\n",
       "      <th>5185</th>\n",
       "      <td>0.0</td>\n",
       "      <td>1.0</td>\n",
       "      <td>0.22</td>\n",
       "      <td>0.55</td>\n",
       "      <td>0.0</td>\n",
       "      <td>0.0</td>\n",
       "      <td>0.0</td>\n",
       "      <td>0.0</td>\n",
       "      <td>0.0</td>\n",
       "      <td>0.0</td>\n",
       "      <td>0.0</td>\n",
       "      <td>0.0</td>\n",
       "    </tr>\n",
       "    <tr>\n",
       "      <th>5186</th>\n",
       "      <td>0.0</td>\n",
       "      <td>0.0</td>\n",
       "      <td>0.27</td>\n",
       "      <td>1.30</td>\n",
       "      <td>0.0</td>\n",
       "      <td>0.0</td>\n",
       "      <td>0.0</td>\n",
       "      <td>0.0</td>\n",
       "      <td>0.0</td>\n",
       "      <td>1.0</td>\n",
       "      <td>0.0</td>\n",
       "      <td>0.0</td>\n",
       "    </tr>\n",
       "    <tr>\n",
       "      <th>5187</th>\n",
       "      <td>0.0</td>\n",
       "      <td>1.0</td>\n",
       "      <td>0.37</td>\n",
       "      <td>0.25</td>\n",
       "      <td>0.0</td>\n",
       "      <td>0.0</td>\n",
       "      <td>1.0</td>\n",
       "      <td>1.0</td>\n",
       "      <td>0.0</td>\n",
       "      <td>1.0</td>\n",
       "      <td>0.0</td>\n",
       "      <td>0.0</td>\n",
       "    </tr>\n",
       "    <tr>\n",
       "      <th>5188</th>\n",
       "      <td>0.0</td>\n",
       "      <td>1.0</td>\n",
       "      <td>0.52</td>\n",
       "      <td>0.65</td>\n",
       "      <td>0.0</td>\n",
       "      <td>0.0</td>\n",
       "      <td>0.0</td>\n",
       "      <td>0.0</td>\n",
       "      <td>0.0</td>\n",
       "      <td>0.0</td>\n",
       "      <td>0.0</td>\n",
       "      <td>0.0</td>\n",
       "    </tr>\n",
       "    <tr>\n",
       "      <th>5189</th>\n",
       "      <td>0.0</td>\n",
       "      <td>0.0</td>\n",
       "      <td>0.72</td>\n",
       "      <td>0.25</td>\n",
       "      <td>0.0</td>\n",
       "      <td>0.0</td>\n",
       "      <td>1.0</td>\n",
       "      <td>0.0</td>\n",
       "      <td>0.0</td>\n",
       "      <td>0.0</td>\n",
       "      <td>0.0</td>\n",
       "      <td>0.0</td>\n",
       "    </tr>\n",
       "  </tbody>\n",
       "</table>\n",
       "<p>5190 rows × 12 columns</p>\n",
       "</div>"
      ],
      "text/plain": [
       "      NONDOCCO  SEX   AGE  INCOME  LEVYPLUS  FREEPOOR  FREEREPA  ILLNESS  \\\n",
       "0          0.0  1.0  0.19    0.55       1.0       0.0       0.0      1.0   \n",
       "1          0.0  1.0  0.19    0.45       1.0       0.0       0.0      1.0   \n",
       "2          0.0  0.0  0.19    0.90       0.0       0.0       0.0      3.0   \n",
       "3          0.0  0.0  0.19    0.15       0.0       0.0       0.0      1.0   \n",
       "4          0.0  0.0  0.19    0.45       0.0       0.0       0.0      2.0   \n",
       "...        ...  ...   ...     ...       ...       ...       ...      ...   \n",
       "5185       0.0  1.0  0.22    0.55       0.0       0.0       0.0      0.0   \n",
       "5186       0.0  0.0  0.27    1.30       0.0       0.0       0.0      0.0   \n",
       "5187       0.0  1.0  0.37    0.25       0.0       0.0       1.0      1.0   \n",
       "5188       0.0  1.0  0.52    0.65       0.0       0.0       0.0      0.0   \n",
       "5189       0.0  0.0  0.72    0.25       0.0       0.0       1.0      0.0   \n",
       "\n",
       "      ACTDAYS  HSCORE  CHCOND1  CHCOND2  \n",
       "0         4.0     1.0      0.0      0.0  \n",
       "1         2.0     1.0      0.0      0.0  \n",
       "2         0.0     0.0      0.0      0.0  \n",
       "3         0.0     0.0      0.0      0.0  \n",
       "4         5.0     1.0      1.0      0.0  \n",
       "...       ...     ...      ...      ...  \n",
       "5185      0.0     0.0      0.0      0.0  \n",
       "5186      0.0     1.0      0.0      0.0  \n",
       "5187      0.0     1.0      0.0      0.0  \n",
       "5188      0.0     0.0      0.0      0.0  \n",
       "5189      0.0     0.0      0.0      0.0  \n",
       "\n",
       "[5190 rows x 12 columns]"
      ]
     },
     "execution_count": 3,
     "metadata": {},
     "output_type": "execute_result"
    }
   ],
   "source": [
    "# reading  dataset\n",
    "data = pd.read_stata(\"D:\\\\AAU PHDS\\\\Semister Three\\\\Advanced Biostastics\\\\Prof Alemayehu Worku\\\\Assignment\\\\health_insurance.dta\")  \n",
    "data"
   ]
  },
  {
   "cell_type": "code",
   "execution_count": 4,
   "metadata": {},
   "outputs": [
    {
     "name": "stdout",
     "output_type": "stream",
     "text": [
      "<class 'pandas.core.frame.DataFrame'>\n",
      "RangeIndex: 5190 entries, 0 to 5189\n",
      "Data columns (total 12 columns):\n",
      " #   Column    Non-Null Count  Dtype  \n",
      "---  ------    --------------  -----  \n",
      " 0   NONDOCCO  5190 non-null   float32\n",
      " 1   SEX       5190 non-null   float32\n",
      " 2   AGE       5190 non-null   float32\n",
      " 3   INCOME    5190 non-null   float32\n",
      " 4   LEVYPLUS  5190 non-null   float32\n",
      " 5   FREEPOOR  5190 non-null   float32\n",
      " 6   FREEREPA  5190 non-null   float32\n",
      " 7   ILLNESS   5190 non-null   float32\n",
      " 8   ACTDAYS   5190 non-null   float32\n",
      " 9   HSCORE    5190 non-null   float32\n",
      " 10  CHCOND1   5190 non-null   float32\n",
      " 11  CHCOND2   5190 non-null   float32\n",
      "dtypes: float32(12)\n",
      "memory usage: 243.4 KB\n"
     ]
    }
   ],
   "source": [
    "# Inspect data structure\n",
    "data.info()"
   ]
  },
  {
   "cell_type": "markdown",
   "metadata": {},
   "source": [
    "## Fit a Poisson Regression Model"
   ]
  },
  {
   "cell_type": "code",
   "execution_count": 5,
   "metadata": {},
   "outputs": [
    {
     "name": "stdout",
     "output_type": "stream",
     "text": [
      "                 Generalized Linear Model Regression Results                  \n",
      "==============================================================================\n",
      "Dep. Variable:               NONDOCCO   No. Observations:                 5190\n",
      "Model:                            GLM   Df Residuals:                     5179\n",
      "Model Family:                 Poisson   Df Model:                           10\n",
      "Link Function:                    Log   Scale:                          1.0000\n",
      "Method:                          IRLS   Log-Likelihood:                -3123.0\n",
      "Date:                Sat, 21 Dec 2024   Deviance:                       5068.2\n",
      "Time:                        11:22:52   Pearson chi2:                 1.56e+04\n",
      "No. Iterations:                     7   Pseudo R-squ. (CS):             0.1847\n",
      "Covariance Type:            nonrobust                                         \n",
      "==============================================================================\n",
      "                 coef    std err          z      P>|z|      [0.025      0.975]\n",
      "------------------------------------------------------------------------------\n",
      "Intercept     -3.0281      0.133    -22.708      0.000      -3.290      -2.767\n",
      "SEX            0.3661      0.069      5.279      0.000       0.230       0.502\n",
      "AGE            1.1563      0.176      6.578      0.000       0.812       1.501\n",
      "INCOME        -0.1900      0.106     -1.792      0.073      -0.398       0.018\n",
      "LEVYPLUS       0.0297      0.065      0.460      0.645      -0.097       0.156\n",
      "FREEPOOR      -0.2026      0.202     -1.001      0.317      -0.599       0.194\n",
      "ILLNESS        0.0577      0.021      2.689      0.007       0.016       0.100\n",
      "ACTDAYS        0.0984      0.006     16.176      0.000       0.086       0.110\n",
      "HSCORE         0.0449      0.012      3.876      0.000       0.022       0.068\n",
      "CHCOND1        0.5163      0.086      5.974      0.000       0.347       0.686\n",
      "CHCOND2        1.0720      0.097     11.089      0.000       0.883       1.262\n",
      "==============================================================================\n"
     ]
    }
   ],
   "source": [
    "# Define the formula for the Poisson regression\n",
    "formula = \"NONDOCCO ~ SEX + AGE + INCOME + LEVYPLUS + FREEPOOR + ILLNESS + ACTDAYS + HSCORE + CHCOND1 + CHCOND2\"\n",
    "\n",
    "# Fit the model\n",
    "poisson_model = glm(formula=formula, data=data, family=Poisson()).fit()\n",
    "\n",
    "# Print model summary\n",
    "print(poisson_model.summary())"
   ]
  },
  {
   "cell_type": "markdown",
   "metadata": {},
   "source": [
    "## Perform Pearson Goodness-of-Fit Test"
   ]
  },
  {
   "cell_type": "code",
   "execution_count": 6,
   "metadata": {},
   "outputs": [
    {
     "name": "stdout",
     "output_type": "stream",
     "text": [
      "Pearson Chi-Square: 15636.194863163886\n",
      "Degrees of Freedom: 5179\n",
      "Goodness-of-Fit p-value: 0.0\n"
     ]
    }
   ],
   "source": [
    "# Calculate Pearson Chi-Square statistic\n",
    "pearson_residuals = poisson_model.resid_pearson\n",
    "pearson_chi2 = sum(pearson_residuals**2)\n",
    "\n",
    "# Degrees of freedom\n",
    "df = len(data) - poisson_model.df_model - 1\n",
    "\n",
    "# Calculate p-value\n",
    "p_value = 1 - chi2.cdf(pearson_chi2, df)\n",
    "\n",
    "print(f\"Pearson Chi-Square: {pearson_chi2}\")\n",
    "print(f\"Degrees of Freedom: {df}\")\n",
    "print(f\"Goodness-of-Fit p-value: {p_value}\")"
   ]
  },
  {
   "cell_type": "markdown",
   "metadata": {},
   "source": [
    "## Fit a Negative Binomial Regression Model"
   ]
  },
  {
   "cell_type": "code",
   "execution_count": 7,
   "metadata": {},
   "outputs": [
    {
     "name": "stdout",
     "output_type": "stream",
     "text": [
      "                 Generalized Linear Model Regression Results                  \n",
      "==============================================================================\n",
      "Dep. Variable:               NONDOCCO   No. Observations:                 5190\n",
      "Model:                            GLM   Df Residuals:                     5179\n",
      "Model Family:        NegativeBinomial   Df Model:                           10\n",
      "Link Function:                    Log   Scale:                          1.0000\n",
      "Method:                          IRLS   Log-Likelihood:                -2516.7\n",
      "Date:                Sat, 21 Dec 2024   Deviance:                       3312.1\n",
      "Time:                        11:22:52   Pearson chi2:                 1.25e+04\n",
      "No. Iterations:                     8   Pseudo R-squ. (CS):             0.1505\n",
      "Covariance Type:            nonrobust                                         \n",
      "==============================================================================\n",
      "                 coef    std err          z      P>|z|      [0.025      0.975]\n",
      "------------------------------------------------------------------------------\n",
      "Intercept     -3.1036      0.150    -20.638      0.000      -3.398      -2.809\n",
      "SEX            0.3097      0.080      3.852      0.000       0.152       0.467\n",
      "AGE            1.2635      0.204      6.208      0.000       0.865       1.662\n",
      "INCOME        -0.2115      0.121     -1.749      0.080      -0.449       0.026\n",
      "LEVYPLUS       0.0142      0.077      0.184      0.854      -0.137       0.165\n",
      "FREEPOOR      -0.3068      0.232     -1.322      0.186      -0.762       0.148\n",
      "ILLNESS        0.0823      0.026      3.114      0.002       0.030       0.134\n",
      "ACTDAYS        0.1114      0.008     13.937      0.000       0.096       0.127\n",
      "HSCORE         0.0594      0.015      4.013      0.000       0.030       0.088\n",
      "CHCOND1        0.4642      0.096      4.827      0.000       0.276       0.653\n",
      "CHCOND2        1.1269      0.111     10.180      0.000       0.910       1.344\n",
      "==============================================================================\n"
     ]
    }
   ],
   "source": [
    "# Fit a Negative Binomial model\n",
    "neg_binomial_model = glm(formula=formula, data=data, family=NegativeBinomial()).fit()\n",
    "\n",
    "# Print model summary\n",
    "print(neg_binomial_model.summary())"
   ]
  },
  {
   "cell_type": "markdown",
   "metadata": {},
   "source": [
    "## Compare Dispersion Parameter (α)"
   ]
  },
  {
   "cell_type": "code",
   "execution_count": 8,
   "metadata": {},
   "outputs": [
    {
     "name": "stdout",
     "output_type": "stream",
     "text": [
      "No significant overdispersion. Poisson model may suffice.\n"
     ]
    }
   ],
   "source": [
    "# Check dispersion parameter (alpha)\n",
    "alpha = neg_binomial_model.scale\n",
    "\n",
    "if alpha > 1:\n",
    "    print(\"Overdispersion detected. Negative Binomial model is more appropriate.\")\n",
    "else:\n",
    "    print(\"No significant overdispersion. Poisson model may suffice.\")"
   ]
  },
  {
   "cell_type": "markdown",
   "metadata": {},
   "source": [
    "## Decide on the Best Model"
   ]
  },
  {
   "cell_type": "code",
   "execution_count": 9,
   "metadata": {},
   "outputs": [
    {
     "name": "stdout",
     "output_type": "stream",
     "text": [
      "Poisson AIC: 6268.0118917560585\n",
      "Negative Binomial AIC: 5055.41258464874\n",
      "Negative Binomial model is preferred.\n"
     ]
    }
   ],
   "source": [
    "print(f\"Poisson AIC: {poisson_model.aic}\")\n",
    "print(f\"Negative Binomial AIC: {neg_binomial_model.aic}\")\n",
    "\n",
    "if neg_binomial_model.aic < poisson_model.aic:\n",
    "    print(\"Negative Binomial model is preferred.\")\n",
    "else:\n",
    "    print(\"Poisson model is preferred.\")"
   ]
  },
  {
   "cell_type": "code",
   "execution_count": null,
   "metadata": {},
   "outputs": [],
   "source": []
  },
  {
   "cell_type": "code",
   "execution_count": null,
   "metadata": {},
   "outputs": [],
   "source": []
  },
  {
   "cell_type": "code",
   "execution_count": null,
   "metadata": {},
   "outputs": [],
   "source": []
  }
 ],
 "metadata": {
  "kernelspec": {
   "display_name": "Python 3",
   "language": "python",
   "name": "python3"
  },
  "language_info": {
   "codemirror_mode": {
    "name": "ipython",
    "version": 3
   },
   "file_extension": ".py",
   "mimetype": "text/x-python",
   "name": "python",
   "nbconvert_exporter": "python",
   "pygments_lexer": "ipython3",
   "version": "3.11.9"
  }
 },
 "nbformat": 4,
 "nbformat_minor": 2
}
