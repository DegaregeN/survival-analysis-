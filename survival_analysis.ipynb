{
 "cells": [
  {
   "cell_type": "markdown",
   "metadata": {},
   "source": [
    "## Questions"
   ]
  },
  {
   "cell_type": "markdown",
   "metadata": {},
   "source": [
    "### Survival Analysis\n",
    "\n",
    "A community-based randomized, controlled trial of permethrin impregnated bed nets was carried\n",
    "out to assess the impact on the mortality of young children in an area of intense transmission of\n",
    "malaria and no tradition of bed net use. The district was divided into 96 geographical areas and in\n",
    "48 randomly selected areas households were provided with permethrin impregnated bed nets\n",
    "which were re-impregnated every 6 months. Below is the summary of the variables in the\n",
    "bednetstudy.dta dataset:\n",
    "obs: 26,342\n",
    "vars: 8\n",
    "size: 737,576\n",
    "-------------------------------------------------------------------------------------------\n",
    "storage display value\n",
    "variable name type format label variable label\n",
    "-------------------------------------------------------------------------------------------\n",
    "cluster    int      %8.0g     cluster number: 1-96\n",
    "\n",
    "bednet      int      %8.0g      treatment arm: 0=control, 1=intervention\n",
    "\n",
    "agemn       float    %9.0g      age at enrolment in months\n",
    "\n",
    "outcome     float     %9.0g      child died: 0=no, 1=yes\n",
    "\n",
    "follyr      float     %9.0g       person-years of follow-up\n",
    "\n",
    "agegp       float     %9.0g      age-group at enrolment: 0=6-11m, 1=1y, 2=2y, 3=3y, 4=4y\n",
    "\n",
    "sex         float      %9.0g      sex: 0=male, 1=female\n",
    "\n",
    "idno        float      %9.0g      child number\n",
    "\n",
    "The primary end point is all cause mortality (outcome:died).\n",
    "1. Construct Kaplan Meier Product Limit Survival Curve for each treatment\n",
    "group (intervention and control).\n",
    "2. Is there a significant difference between the two treatment groups ( intervention\n",
    "and control) on time of death?\n",
    "3. Fit a Cox regression model for the bednet\n",
    "a. Check the Cox PH assumption graphically for bednet (the main exposure)\n",
    "4. Fit a Cox regression model for the covariates bednet, sex and agegp. Which of\n",
    "the factors are significantly associated with all cause mortality? Interpret the\n",
    "findings. Please take into account the clustering effect of geographical areas (96\n",
    "clusters)."
   ]
  },
  {
   "cell_type": "code",
   "execution_count": null,
   "metadata": {
    "vscode": {
     "languageId": "plaintext"
    }
   },
   "outputs": [],
   "source": []
  },
  {
   "cell_type": "code",
   "execution_count": null,
   "metadata": {
    "vscode": {
     "languageId": "plaintext"
    }
   },
   "outputs": [],
   "source": []
  },
  {
   "cell_type": "code",
   "execution_count": null,
   "metadata": {
    "vscode": {
     "languageId": "plaintext"
    }
   },
   "outputs": [],
   "source": []
  },
  {
   "cell_type": "code",
   "execution_count": null,
   "metadata": {
    "vscode": {
     "languageId": "plaintext"
    }
   },
   "outputs": [],
   "source": []
  },
  {
   "cell_type": "code",
   "execution_count": null,
   "metadata": {
    "vscode": {
     "languageId": "plaintext"
    }
   },
   "outputs": [],
   "source": []
  },
  {
   "cell_type": "code",
   "execution_count": null,
   "metadata": {
    "vscode": {
     "languageId": "plaintext"
    }
   },
   "outputs": [],
   "source": []
  }
 ],
 "metadata": {
  "language_info": {
   "name": "python"
  }
 },
 "nbformat": 4,
 "nbformat_minor": 2
}
